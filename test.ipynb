{
 "cells": [
  {
   "cell_type": "code",
   "execution_count": 2,
   "metadata": {},
   "outputs": [
    {
     "name": "stdout",
     "output_type": "stream",
     "text": [
      "Please enter the following information:\n",
      "\n",
      "Input Data (with features):\n",
      "Pregnancies: 5\n",
      "Glucose: 166.0\n",
      "BloodPressure: 72.0\n",
      "SkinThickness: 19.0\n",
      "Insulin: 177.0\n",
      "BMI: 25.8\n",
      "Age: 51.0\n",
      "Prediction: The patient is likely to have diabetes.\n"
     ]
    },
    {
     "name": "stderr",
     "output_type": "stream",
     "text": [
      "C:\\Users\\asus\\AppData\\Local\\Packages\\PythonSoftwareFoundation.Python.3.11_qbz5n2kfra8p0\\LocalCache\\local-packages\\Python311\\site-packages\\sklearn\\base.py:493: UserWarning: X does not have valid feature names, but RandomForestClassifier was fitted with feature names\n",
      "  warnings.warn(\n"
     ]
    }
   ],
   "source": [
    "import joblib\n",
    "import pandas as pd\n",
    "import numpy as np\n",
    "\n",
    "def clip_outliers(data, lower_percentile=0.25, upper_percentile=0.75, factor=1.5):\n",
    "    df_clipped = data.copy()\n",
    "    for column in df_clipped.columns:\n",
    "        Q1 = df_clipped[column].quantile(lower_percentile)\n",
    "        Q3 = df_clipped[column].quantile(upper_percentile)\n",
    "        IQR = Q3 - Q1\n",
    "\n",
    "        lower_bound = Q1 - (factor * IQR)\n",
    "        upper_bound = Q3 + (factor * IQR)\n",
    "\n",
    "        df_clipped[column] = np.clip(df_clipped[column], lower_bound, upper_bound)\n",
    "    \n",
    "    return df_clipped\n",
    "\n",
    "preprocessing_pipeline = joblib.load('preprocessing_pipeline1.pkl')\n",
    "final_model = joblib.load('final_rff_model.pkl')\n",
    "\n",
    "feature_names = ['Pregnancies', 'Glucose', 'BloodPressure', 'SkinThickness', 'Insulin', 'BMI', 'Age']\n",
    "\n",
    "print(\"Please enter the following information:\")\n",
    "\n",
    "Pregnancies = int(input(\"Pregnancies: \"))\n",
    "Glucose = float(input(\"Glucose: \"))\n",
    "BloodPressure = float(input(\"BloodPressure: \"))\n",
    "SkinThickness = float(input(\"SkinThickness: \"))\n",
    "Insulin = float(input(\"Insulin: \"))\n",
    "BMI = float(input(\"BMI: \"))\n",
    "Age = float(input(\"Age: \"))\n",
    "\n",
    "input_data = {\n",
    "    'Pregnancies': Pregnancies,\n",
    "    'Glucose': Glucose,\n",
    "    'BloodPressure' : BloodPressure,\n",
    "    'SkinThickness' : SkinThickness,\n",
    "    'Insulin' : Insulin, \n",
    "    'BMI' : BMI, \n",
    "    'Age' : Age\n",
    "}\n",
    "\n",
    "input_df = pd.DataFrame([input_data])\n",
    "\n",
    "print(\"\\nInput Data (with features):\")\n",
    "for feature in feature_names:\n",
    "    print(f\"{feature}: {input_data[feature]}\")\n",
    "\n",
    "preprocessed_input = preprocessing_pipeline.transform(input_df)\n",
    "\n",
    "prediction = final_model.predict(preprocessed_input)\n",
    "\n",
    "if prediction[0] == 1:\n",
    "    print(\"Prediction: The patient is likely to have diabetes.\")\n",
    "else:\n",
    "    print(\"Prediction: The patient is unlikely to have diabetes.\")\n"
   ]
  }
 ],
 "metadata": {
  "kernelspec": {
   "display_name": "Python 3",
   "language": "python",
   "name": "python3"
  },
  "language_info": {
   "codemirror_mode": {
    "name": "ipython",
    "version": 3
   },
   "file_extension": ".py",
   "mimetype": "text/x-python",
   "name": "python",
   "nbconvert_exporter": "python",
   "pygments_lexer": "ipython3",
   "version": "3.11.9"
  }
 },
 "nbformat": 4,
 "nbformat_minor": 2
}
